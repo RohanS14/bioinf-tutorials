{
 "cells": [
  {
   "cell_type": "markdown",
   "metadata": {},
   "source": [
    "<center><h1>Data Processing</h1>\n",
    "    <h3> Author: Daniella Vo and Rohan Subramanian </h3></center>\n",
    "\n",
    "<br>\n",
    "\n",
    "<p><center>This notebook is used to convert data from databases other than GEO to the Hegemon file formats. Adapted from Daniella's microbiome processing script. </center></p>"
   ]
  },
  {
   "cell_type": "markdown",
   "metadata": {},
   "source": [
    "## Import Statements"
   ]
  },
  {
   "cell_type": "code",
   "execution_count": null,
   "metadata": {},
   "outputs": [],
   "source": [
    "%xmode Verbose\n",
    "import os\n",
    "import gzip\n",
    "import shutil\n",
    "from IPython.display import display\n",
    "import pandas as pd\n",
    "from anndata import AnnData\n",
    "import scanpy as sc \n",
    "import operator\n",
    "import subprocess\n",
    "\n",
    "print_progress = False\n",
    "save_extra_files = False"
   ]
  },
  {
   "cell_type": "markdown",
   "metadata": {},
   "source": [
    "## Parameters"
   ]
  },
  {
   "cell_type": "code",
   "execution_count": null,
   "metadata": {},
   "outputs": [],
   "source": [
    "metadata_file = ''\n",
    "expression_file = ''\n",
    "organism = '' # Hs (human) or Mm (mouse)\n",
    "mapping_file = '' # Genome annotation file with Ensembl ID and gene name\n",
    "\n",
    "if organism == \"Hs\":\n",
    "    mapping_file = \"/booleanfs2/sahoo/Data/SeqData/genome/Homo_sapiens.GRCh38.99.chr_patch_hapl_scaff.txt\"\n",
    "if organism = \"Mm\":\n",
    "    mapping_file = \"/booleanfs2/sahoo/Data/SeqData/genome/Mus_musculus.GRCm38.94.txt\"\n",
    "if organism = \"Rn\":\n",
    "    mapping_file = \"Rattus_norvegicus.Rnor_5.0.79.txt\"\n",
    "\n",
    "# We have more species' genome annotations in /SeqData/genome/     \n",
    "    \n",
    "if metadata_file == '' or expression_file == '' or mapping_file == '':\n",
    "    raise TypeError('Check input file names')\n",
    "    \n",
    "dataset_name = os.getcwd().split('/')[-1].replace('_','-')\n",
    "print(dataset_name)"
   ]
  },
  {
   "cell_type": "markdown",
   "metadata": {},
   "source": [
    "## Expression File"
   ]
  },
  {
   "cell_type": "code",
   "execution_count": null,
   "metadata": {},
   "outputs": [],
   "source": [
    "expr = pd.read_csv(expression_file,sep='\\t',skiprows=1)\n",
    "expr = expr.rename(columns={'Gene':'ProbeID'}) # Check what the name is currently, change it\n",
    "probe_id = expr['ProbeID']\n",
    "col_names = expr.columns\n",
    "del expr['ProbeID']\n",
    "\n",
    "# Normalize Data\n",
    "adata = AnnData(expr.T)\n",
    "sc.pp.normalize_total(adata, target_sum=1e6)\n",
    "sc.pp.log1p(adata, base=2)\n",
    "\n",
    "norm_expr = pd.DataFrame(adata.X).T\n",
    "\n",
    "norm_expr.insert(0, 'ProbeID', probe_id)\n",
    "norm_expr.columns = col_names\n",
    "\n",
    "# Get gene names from Ensembl IDs\n",
    "mapping = pd.DataFrame(pd.read_csv(mapping_file, sep = '\\t', header=None)) \n",
    "mapping.columns = [\"ProbeID\", \"Name\"]\n",
    "norm_expr = mapping.merge(norm_expr,on='ProbeID',how='right')\n",
    "\n",
    "# Save to file\n",
    "norm_expr.to_csv(dataset_name+'-expr.txt',sep='\\t',index=False)\n",
    "\n",
    "norm_expr"
   ]
  },
  {
   "cell_type": "markdown",
   "metadata": {},
   "source": [
    "## Generate survival/IH file"
   ]
  },
  {
   "cell_type": "code",
   "execution_count": null,
   "metadata": {},
   "outputs": [],
   "source": [
    "survival = pd.read_csv(metadata_file,sep='\\t')\n",
    "survival = survival.rename(columns={'sample_name':'ArrayId'})\n",
    "survival.columns = ['c ' + x if x != 'ArrayId' else x for x in survival.columns ]\n",
    "survival.insert(1,'time','')\n",
    "survival.insert(2,'status','')\n",
    "survival = survival[survival['ArrayId'].isin(expr.columns)]\n",
    "\n",
    "survival.to_csv(dataset_name+'-survival.txt',sep='\\t',index=False)\n",
    "survival"
   ]
  },
  {
   "cell_type": "code",
   "execution_count": null,
   "metadata": {},
   "outputs": [],
   "source": [
    "ih = pd.DataFrame(survival['ArrayId'])\n",
    "ih['ArrayHeader'] = ih['ArrayId']\n",
    "ih['ClinicalHeader'] = ih['ArrayId']\n",
    "\n",
    "ih.to_csv(dataset_name+'-ih.txt',sep='\\t',index=False)\n",
    "ih"
   ]
  },
  {
   "cell_type": "markdown",
   "metadata": {},
   "source": [
    "## Make idx file"
   ]
  },
  {
   "cell_type": "code",
   "execution_count": null,
   "metadata": {},
   "outputs": [],
   "source": [
    "expr_file_name = dataset_name+'-expr.txt'\n",
    "ptr = []\n",
    "ids = []\n",
    "name = []\n",
    "desc = []\n",
    "pos = 0\n",
    "print('- Starting idx file generationn')\n",
    "with open(expr_file_name, 'rb') as f:\n",
    "    print('- Reading bytes from', expr_file_name)\n",
    "    for line in f:\n",
    "        if pos == 0:\n",
    "            pos += len(line)\n",
    "        else:\n",
    "            ptr.append(pos)\n",
    "            pos += len(line)\n",
    "            split = line.decode(\"utf-8\").split('\\t')\n",
    "            ids.append(split[0])\n",
    "            name.append(split[1].split(':')[0])\n",
    "            desc.append(':'.join(split[1].split(':')[1:]))\n",
    "    f.close()\n",
    "\n",
    "with open(dataset_name+'-idx.txt', 'w') as f:\n",
    "    print('- Writing idx file')\n",
    "    f.write('ProbeID\\tPtr\\tName\\tDescription\\n')\n",
    "    for i in range(len(ids)):\n",
    "        f.write('{}\\t{}\\t{}\\t{}\\n'.format(ids[i], ptr[i], name[i], desc[i]))\n",
    "    f.close()\n",
    "print('- Completed')"
   ]
  },
  {
   "cell_type": "markdown",
   "metadata": {},
   "source": [
    "## Generate 4 other Hegemon files: bv, info, vinfo, thr"
   ]
  },
  {
   "cell_type": "code",
   "execution_count": null,
   "metadata": {},
   "outputs": [],
   "source": [
    "directory = dataset_name.replace('-','_')\n",
    "\n",
    "def run_cmd(cmd: str, stderr=subprocess.STDOUT) -> None:\n",
    "    \"\"\"Run a command in terminal\n",
    "\n",
    "    Args:\n",
    "        cmd (str): command to run in terminal\n",
    "        stderr (subprocess, optional): Where the error has to go. Defaults to subprocess.STDOUT.\n",
    "\n",
    "    Raises:\n",
    "        e: Excetion of the CalledProcessError\n",
    "    \"\"\"\n",
    "    out = None\n",
    "    try:\n",
    "        out = subprocess.check_output(\n",
    "            [cmd],\n",
    "            shell=True,\n",
    "            stderr=stderr,\n",
    "            universal_newlines=True,\n",
    "        )\n",
    "    except subprocess.CalledProcessError as e:\n",
    "        print(f'ERROR {e.returncode}: {cmd}\\n\\t{e.output}',\n",
    "              flush=True, file=sys.stderr)\n",
    "        raise e\n",
    "    print(out)\n",
    "\n",
    "cmd = f'bash /booleanfs2/sahoo/Data/BooleanLab/Microbiome/gse_processing {expr_file_name}'\n",
    "run_cmd(cmd)"
   ]
  }
 ],
 "metadata": {
  "kernelspec": {
   "display_name": "Python 3",
   "language": "python",
   "name": "python3"
  },
  "language_info": {
   "codemirror_mode": {
    "name": "ipython",
    "version": 3
   },
   "file_extension": ".py",
   "mimetype": "text/x-python",
   "name": "python",
   "nbconvert_exporter": "python",
   "pygments_lexer": "ipython3",
   "version": "3.6.9"
  }
 },
 "nbformat": 4,
 "nbformat_minor": 2
}
